{
 "cells": [
  {
   "cell_type": "code",
   "execution_count": 1,
   "metadata": {},
   "outputs": [],
   "source": [
    "from pydantic import BaseModel"
   ]
  },
  {
   "cell_type": "code",
   "execution_count": 2,
   "metadata": {},
   "outputs": [],
   "source": [
    "class Person(BaseModel):\n",
    "    first_name:str\n",
    "    last_name:str\n",
    "    age:int"
   ]
  },
  {
   "cell_type": "code",
   "execution_count": 3,
   "metadata": {},
   "outputs": [],
   "source": [
    "p = Person(first_name='Isaac', last_name='Newton', age=84)"
   ]
  },
  {
   "cell_type": "code",
   "execution_count": 4,
   "metadata": {},
   "outputs": [
    {
     "data": {
      "text/plain": [
       "Person(first_name='Isaac', last_name='Newton', age=84)"
      ]
     },
     "execution_count": 4,
     "metadata": {},
     "output_type": "execute_result"
    }
   ],
   "source": [
    "p"
   ]
  },
  {
   "cell_type": "code",
   "execution_count": 5,
   "metadata": {},
   "outputs": [
    {
     "data": {
      "text/plain": [
       "Person(first_name='100', last_name='100', age=3)"
      ]
     },
     "execution_count": 5,
     "metadata": {},
     "output_type": "execute_result"
    }
   ],
   "source": [
    "Person(first_name='100', last_name='100', age='3') # implicit type casting of int"
   ]
  },
  {
   "cell_type": "code",
   "execution_count": 6,
   "metadata": {},
   "outputs": [],
   "source": [
    "from pydantic import ValidationError"
   ]
  },
  {
   "cell_type": "code",
   "execution_count": 7,
   "metadata": {},
   "outputs": [
    {
     "name": "stdout",
     "output_type": "stream",
     "text": [
      "2 validation errors for Person\n",
      "last_name\n",
      "  Field required [type=missing, input_value={'first_name': 'issac'}, input_type=dict]\n",
      "    For further information visit https://errors.pydantic.dev/2.5/v/missing\n",
      "age\n",
      "  Field required [type=missing, input_value={'first_name': 'issac'}, input_type=dict]\n",
      "    For further information visit https://errors.pydantic.dev/2.5/v/missing\n"
     ]
    }
   ],
   "source": [
    "try:\n",
    "    Person(first_name='issac')\n",
    "except ValidationError as ex:\n",
    "    print(ex)"
   ]
  },
  {
   "cell_type": "code",
   "execution_count": 8,
   "metadata": {},
   "outputs": [
    {
     "name": "stdout",
     "output_type": "stream",
     "text": [
      "[\n",
      "    {\n",
      "        \"type\": \"missing\",\n",
      "        \"loc\": [\n",
      "            \"last_name\"\n",
      "        ],\n",
      "        \"msg\": \"Field required\",\n",
      "        \"input\": {\n",
      "            \"first_name\": \"issac\"\n",
      "        },\n",
      "        \"url\": \"https://errors.pydantic.dev/2.5/v/missing\"\n",
      "    },\n",
      "    {\n",
      "        \"type\": \"missing\",\n",
      "        \"loc\": [\n",
      "            \"age\"\n",
      "        ],\n",
      "        \"msg\": \"Field required\",\n",
      "        \"input\": {\n",
      "            \"first_name\": \"issac\"\n",
      "        },\n",
      "        \"url\": \"https://errors.pydantic.dev/2.5/v/missing\"\n",
      "    }\n",
      "]\n"
     ]
    }
   ],
   "source": [
    "try:\n",
    "    Person(first_name='issac')\n",
    "except ValidationError as ex:\n",
    "    print(ex.json(indent=4)) # error in json format"
   ]
  },
  {
   "cell_type": "code",
   "execution_count": 9,
   "metadata": {},
   "outputs": [],
   "source": [
    "class Person(BaseModel):\n",
    "    first_name:str\n",
    "    last_name:str\n",
    "    age:int | None # age is optional, None if missing # this doesn't work anymore"
   ]
  },
  {
   "cell_type": "code",
   "execution_count": 10,
   "metadata": {},
   "outputs": [
    {
     "name": "stdout",
     "output_type": "stream",
     "text": [
      "1 validation error for Person\n",
      "age\n",
      "  Field required [type=missing, input_value={'first_name': 'Isaac', 'last_name': 'Newton'}, input_type=dict]\n",
      "    For further information visit https://errors.pydantic.dev/2.5/v/missing\n"
     ]
    }
   ],
   "source": [
    " # This doesn't work anymore\n",
    "try:\n",
    "    Person(first_name='Isaac', last_name='Newton')\n",
    "except ValidationError as e:\n",
    "    print(e)"
   ]
  },
  {
   "cell_type": "code",
   "execution_count": 11,
   "metadata": {},
   "outputs": [],
   "source": [
    "from typing import Optional"
   ]
  },
  {
   "cell_type": "code",
   "execution_count": 12,
   "metadata": {},
   "outputs": [],
   "source": [
    "class Person(BaseModel):\n",
    "    first_name:str\n",
    "    last_name:str\n",
    "    age: Optional[int] # this too doesn't work anymore"
   ]
  },
  {
   "cell_type": "code",
   "execution_count": 13,
   "metadata": {},
   "outputs": [
    {
     "name": "stdout",
     "output_type": "stream",
     "text": [
      "1 validation error for Person\n",
      "age\n",
      "  Field required [type=missing, input_value={'first_name': 'Isaac', 'last_name': 'Newton'}, input_type=dict]\n",
      "    For further information visit https://errors.pydantic.dev/2.5/v/missing\n"
     ]
    }
   ],
   "source": [
    "# this doesn't work anymore, in latest version of pydantic\n",
    "try:\n",
    "    Person(first_name='Isaac', last_name='Newton')\n",
    "except ValidationError as e:\n",
    "    print(e)"
   ]
  },
  {
   "cell_type": "code",
   "execution_count": 14,
   "metadata": {},
   "outputs": [],
   "source": [
    "# specify default values\n",
    "class Person(BaseModel):\n",
    "    first_name:str = 'Isaac' # it works\n",
    "    last_name:str\n",
    "    age: int = 18"
   ]
  },
  {
   "cell_type": "code",
   "execution_count": 15,
   "metadata": {},
   "outputs": [
    {
     "name": "stdout",
     "output_type": "stream",
     "text": [
      "first_name='Isaac' last_name='Newton' age=18\n"
     ]
    }
   ],
   "source": [
    "try:\n",
    "    print(Person(last_name='Newton'))\n",
    "except ValidationError as e:\n",
    "    print(e)"
   ]
  },
  {
   "cell_type": "code",
   "execution_count": 16,
   "metadata": {},
   "outputs": [
    {
     "data": {
      "text/plain": [
       "{'first_name': 'Isaac', 'last_name': 'Newton', 'age': 84}"
      ]
     },
     "execution_count": 16,
     "metadata": {},
     "output_type": "execute_result"
    }
   ],
   "source": [
    "# p.dict() - deprecated\n",
    "p.model_dump() "
   ]
  },
  {
   "cell_type": "code",
   "execution_count": 17,
   "metadata": {},
   "outputs": [
    {
     "data": {
      "text/plain": [
       "'{\"first_name\":\"Isaac\",\"last_name\":\"Newton\",\"age\":84}'"
      ]
     },
     "execution_count": 17,
     "metadata": {},
     "output_type": "execute_result"
    }
   ],
   "source": [
    "# p.json()- deprecated\n",
    "p.model_dump_json() # convert to json format"
   ]
  },
  {
   "cell_type": "code",
   "execution_count": 18,
   "metadata": {},
   "outputs": [
    {
     "name": "stdout",
     "output_type": "stream",
     "text": [
      "{\n",
      "    \"last_name\": \"Newton\",\n",
      "    \"age\": 84\n",
      "}\n"
     ]
    }
   ],
   "source": [
    "print(p.model_dump_json(exclude={'first_name'}, indent=4)) \n",
    "# exclude or include fields when serializing objects\n",
    "# serialize - convert objects to json or dictionary\n",
    "# deserialize - convert json or dictionary to objects"
   ]
  },
  {
   "cell_type": "code",
   "execution_count": 19,
   "metadata": {},
   "outputs": [],
   "source": [
    "from datetime import date"
   ]
  },
  {
   "cell_type": "code",
   "execution_count": 20,
   "metadata": {},
   "outputs": [],
   "source": [
    "class Person(BaseModel):\n",
    "    first_name:str = None\n",
    "    last_name:str\n",
    "    dob: date"
   ]
  },
  {
   "cell_type": "code",
   "execution_count": 21,
   "metadata": {},
   "outputs": [],
   "source": [
    "data = {\n",
    "    \"first_name\":\"Isaac\",\n",
    "    \"last_name\":\"Newton\",\n",
    "    \"dob\": date(1643, 1, 4)\n",
    "}"
   ]
  },
  {
   "cell_type": "code",
   "execution_count": 22,
   "metadata": {},
   "outputs": [],
   "source": [
    "# p = Person.parse_obj() - deprecated\n",
    "p = Person.model_validate(data) # dictionary to the person object > deserialization"
   ]
  },
  {
   "cell_type": "code",
   "execution_count": 23,
   "metadata": {},
   "outputs": [
    {
     "data": {
      "text/plain": [
       "Person(first_name='Isaac', last_name='Newton', dob=datetime.date(1643, 1, 4))"
      ]
     },
     "execution_count": 23,
     "metadata": {},
     "output_type": "execute_result"
    }
   ],
   "source": [
    "p"
   ]
  },
  {
   "cell_type": "code",
   "execution_count": 24,
   "metadata": {},
   "outputs": [],
   "source": [
    "data = {\n",
    "    \"first_name\":\"Isaac\",\n",
    "    \"last_name\":\"Newton\",\n",
    "    \"dob\": \"1643-01-04\"\n",
    "}"
   ]
  },
  {
   "cell_type": "code",
   "execution_count": 25,
   "metadata": {},
   "outputs": [
    {
     "data": {
      "text/plain": [
       "Person(first_name='Isaac', last_name='Newton', dob=datetime.date(1643, 1, 4))"
      ]
     },
     "execution_count": 25,
     "metadata": {},
     "output_type": "execute_result"
    }
   ],
   "source": [
    "p = Person.model_validate(data) # Person class can deserialize date strings and create date objects\n",
    "\n",
    "p"
   ]
  },
  {
   "cell_type": "code",
   "execution_count": 26,
   "metadata": {},
   "outputs": [],
   "source": [
    "json = '''{\n",
    "    \"first_name\":\"Isaac\",\n",
    "    \"last_name\":\"Newton\",\n",
    "    \"dob\": \"1643-01-04\"\n",
    "}'''"
   ]
  },
  {
   "cell_type": "code",
   "execution_count": 27,
   "metadata": {},
   "outputs": [
    {
     "data": {
      "text/plain": [
       "Person(first_name='Isaac', last_name='Newton', dob=datetime.date(1643, 1, 4))"
      ]
     },
     "execution_count": 27,
     "metadata": {},
     "output_type": "execute_result"
    }
   ],
   "source": [
    "# p = Person.parse_raw() - deprecated\n",
    "p = Person.model_validate_json(json)\n",
    "p"
   ]
  },
  {
   "cell_type": "code",
   "execution_count": 28,
   "metadata": {},
   "outputs": [],
   "source": [
    "from pydantic import Field"
   ]
  },
  {
   "cell_type": "code",
   "execution_count": 29,
   "metadata": {},
   "outputs": [],
   "source": [
    "# alias in pydantic\n",
    "class Person(BaseModel):\n",
    "    first_name:str = Field(default=None, alias='firstName')\n",
    "    last_name:str = Field(alias='lastName')\n",
    "    dob: date"
   ]
  },
  {
   "cell_type": "code",
   "execution_count": 30,
   "metadata": {},
   "outputs": [
    {
     "name": "stdout",
     "output_type": "stream",
     "text": [
      "[\n",
      "    {\n",
      "        \"type\": \"missing\",\n",
      "        \"loc\": [\n",
      "            \"lastName\"\n",
      "        ],\n",
      "        \"msg\": \"Field required\",\n",
      "        \"input\": {\n",
      "            \"first_name\": \"Isaac\",\n",
      "            \"last_name\": \"Newton\",\n",
      "            \"dob\": \"1643-01-04\"\n",
      "        },\n",
      "        \"url\": \"https://errors.pydantic.dev/2.5/v/missing\"\n",
      "    }\n",
      "]\n"
     ]
    }
   ],
   "source": [
    "try:\n",
    "    Person.model_validate(data)\n",
    "except ValidationError as e:\n",
    "    print(e.json(indent=4)) # thanks to Field"
   ]
  },
  {
   "cell_type": "code",
   "execution_count": 31,
   "metadata": {},
   "outputs": [
    {
     "data": {
      "text/plain": [
       "{'first_name': 'Isaac', 'last_name': 'Newton', 'dob': '1643-01-04'}"
      ]
     },
     "execution_count": 31,
     "metadata": {},
     "output_type": "execute_result"
    }
   ],
   "source": [
    "data # we cannot load this data as we have specified the field aliases"
   ]
  },
  {
   "cell_type": "code",
   "execution_count": 32,
   "metadata": {},
   "outputs": [],
   "source": [
    "data2 = {\n",
    "    \"firstName\":\"Isaac\",\n",
    "    \"lastName\":\"Newton\",\n",
    "    \"dob\": \"1643-01-04\"\n",
    "}"
   ]
  },
  {
   "cell_type": "code",
   "execution_count": 33,
   "metadata": {},
   "outputs": [
    {
     "data": {
      "text/plain": [
       "Person(first_name='Isaac', last_name='Newton', dob=datetime.date(1643, 1, 4))"
      ]
     },
     "execution_count": 33,
     "metadata": {},
     "output_type": "execute_result"
    }
   ],
   "source": [
    "p = Person.model_validate(data2)\n",
    "p"
   ]
  },
  {
   "cell_type": "code",
   "execution_count": 34,
   "metadata": {},
   "outputs": [
    {
     "data": {
      "text/plain": [
       "'{\"first_name\":\"Isaac\",\"last_name\":\"Newton\",\"dob\":\"1643-01-04\"}'"
      ]
     },
     "execution_count": 34,
     "metadata": {},
     "output_type": "execute_result"
    }
   ],
   "source": [
    "p.model_dump_json() # serializing data retains the field names"
   ]
  },
  {
   "cell_type": "code",
   "execution_count": 35,
   "metadata": {},
   "outputs": [],
   "source": [
    "# We can configure pydantic to allow us to the field names as well as the aliases."
   ]
  },
  {
   "cell_type": "code",
   "execution_count": 36,
   "metadata": {},
   "outputs": [],
   "source": [
    "class Person(BaseModel):\n",
    "    first_name:str = Field(default=None, alias='firstName')\n",
    "    last_name:str = Field(alias='lastName')\n",
    "    dob: date\n",
    "\n",
    "    class Config:\n",
    "        # allow_population_by_field_name = True \n",
    "        populate_by_name = True"
   ]
  },
  {
   "cell_type": "code",
   "execution_count": 37,
   "metadata": {},
   "outputs": [
    {
     "name": "stdout",
     "output_type": "stream",
     "text": [
      "first_name='Isaac' last_name='Newton' dob=datetime.date(1643, 1, 4)\n"
     ]
    }
   ],
   "source": [
    "try:\n",
    "    print(Person.model_validate(data)) # using field names\n",
    "except ValidationError as e:\n",
    "    print(e.json(indent=4))"
   ]
  },
  {
   "cell_type": "code",
   "execution_count": 38,
   "metadata": {},
   "outputs": [
    {
     "name": "stdout",
     "output_type": "stream",
     "text": [
      "first_name='Isaac' last_name='Newton' dob=datetime.date(1643, 1, 4)\n"
     ]
    }
   ],
   "source": [
    "try:\n",
    "    print(Person.model_validate(data2)) # using field aliases\n",
    "except ValidationError as e:\n",
    "    print(e.json(indent=4))"
   ]
  },
  {
   "cell_type": "code",
   "execution_count": 39,
   "metadata": {},
   "outputs": [],
   "source": [
    "p = Person.model_validate(data2)"
   ]
  },
  {
   "cell_type": "code",
   "execution_count": 40,
   "metadata": {},
   "outputs": [
    {
     "data": {
      "text/plain": [
       "'{\"first_name\":\"Isaac\",\"last_name\":\"Newton\",\"dob\":\"1643-01-04\"}'"
      ]
     },
     "execution_count": 40,
     "metadata": {},
     "output_type": "execute_result"
    }
   ],
   "source": [
    "p.model_dump_json() # serializers still use field names"
   ]
  },
  {
   "cell_type": "code",
   "execution_count": 41,
   "metadata": {},
   "outputs": [
    {
     "data": {
      "text/plain": [
       "'{\"firstName\":\"Isaac\",\"lastName\":\"Newton\",\"dob\":\"1643-01-04\"}'"
      ]
     },
     "execution_count": 41,
     "metadata": {},
     "output_type": "execute_result"
    }
   ],
   "source": [
    "# instruct the serializers to use the field aliases as opposed to the field names\n",
    "p.model_dump_json(by_alias=True)"
   ]
  },
  {
   "cell_type": "code",
   "execution_count": 42,
   "metadata": {},
   "outputs": [
    {
     "data": {
      "text/plain": [
       "{'first_name': 'Isaac',\n",
       " 'last_name': 'Newton',\n",
       " 'dob': '1643-01-04',\n",
       " 'junk': 'extra fields'}"
      ]
     },
     "execution_count": 42,
     "metadata": {},
     "output_type": "execute_result"
    }
   ],
   "source": [
    "# What happens if we pass field names/aliases that are not valid for the model?\n",
    "\n",
    "data_junk = {**data, 'junk':'extra fields'}\n",
    "data_junk"
   ]
  },
  {
   "cell_type": "code",
   "execution_count": 43,
   "metadata": {},
   "outputs": [
    {
     "data": {
      "text/plain": [
       "Person(first_name='Isaac', last_name='Newton', dob=datetime.date(1643, 1, 4))"
      ]
     },
     "execution_count": 43,
     "metadata": {},
     "output_type": "execute_result"
    }
   ],
   "source": [
    "Person.model_validate(data_junk)"
   ]
  },
  {
   "cell_type": "code",
   "execution_count": 44,
   "metadata": {},
   "outputs": [],
   "source": [
    "p = Person(**data_junk)"
   ]
  },
  {
   "cell_type": "code",
   "execution_count": 45,
   "metadata": {},
   "outputs": [
    {
     "data": {
      "text/plain": [
       "Person(first_name='Isaac', last_name='Newton', dob=datetime.date(1643, 1, 4))"
      ]
     },
     "execution_count": 45,
     "metadata": {},
     "output_type": "execute_result"
    }
   ],
   "source": [
    "p"
   ]
  },
  {
   "cell_type": "code",
   "execution_count": 46,
   "metadata": {},
   "outputs": [
    {
     "data": {
      "text/plain": [
       "True"
      ]
     },
     "execution_count": 46,
     "metadata": {},
     "output_type": "execute_result"
    }
   ],
   "source": [
    "hasattr(p, 'first_name')"
   ]
  },
  {
   "cell_type": "code",
   "execution_count": 47,
   "metadata": {},
   "outputs": [
    {
     "data": {
      "text/plain": [
       "False"
      ]
     },
     "execution_count": 47,
     "metadata": {},
     "output_type": "execute_result"
    }
   ],
   "source": [
    "hasattr(p, 'junk') # junk field was totally ignored"
   ]
  },
  {
   "cell_type": "markdown",
   "metadata": {},
   "source": [
    "We can actually define how we want to handle those extra fields:\n",
    "1. We can ignore them (default)\n",
    "2. We can allow them and actually add them as attributes\n",
    "3. We can forbid them which raise a validation error"
   ]
  },
  {
   "cell_type": "code",
   "execution_count": 48,
   "metadata": {},
   "outputs": [],
   "source": [
    "# deprecated from pydantic import Extra \n",
    "class Person(BaseModel):\n",
    "    first_name:str = Field(default=None, alias='firstName')\n",
    "    last_name:str = Field(alias='lastName')\n",
    "    dob: date\n",
    "\n",
    "    class Config:\n",
    "        # allow_population_by_field_name = True \n",
    "        populate_by_name = True\n",
    "        extra = 'forbid'"
   ]
  },
  {
   "cell_type": "code",
   "execution_count": 49,
   "metadata": {},
   "outputs": [
    {
     "name": "stdout",
     "output_type": "stream",
     "text": [
      "[\n",
      "    {\n",
      "        \"type\": \"extra_forbidden\",\n",
      "        \"loc\": [\n",
      "            \"junk\"\n",
      "        ],\n",
      "        \"msg\": \"Extra inputs are not permitted\",\n",
      "        \"input\": \"extra fields\",\n",
      "        \"url\": \"https://errors.pydantic.dev/2.5/v/extra_forbidden\"\n",
      "    }\n",
      "]\n"
     ]
    }
   ],
   "source": [
    "try:\n",
    "    Person(**data_junk)\n",
    "except ValidationError as e:\n",
    "    print(e.json(indent=4))"
   ]
  },
  {
   "cell_type": "code",
   "execution_count": 50,
   "metadata": {},
   "outputs": [],
   "source": [
    "class Person(BaseModel):\n",
    "    first_name:str = Field(default=None, alias='firstName')\n",
    "    last_name:str = Field(alias='lastName')\n",
    "    dob: date\n",
    "\n",
    "    class Config:\n",
    "        # allow_population_by_field_name = True \n",
    "        populate_by_name = True\n",
    "        extra = 'allow'"
   ]
  },
  {
   "cell_type": "code",
   "execution_count": 51,
   "metadata": {},
   "outputs": [],
   "source": [
    "try:\n",
    "    Person(**data_junk)\n",
    "except ValidationError as e:\n",
    "    print(e.json(indent=4))"
   ]
  },
  {
   "cell_type": "code",
   "execution_count": 52,
   "metadata": {},
   "outputs": [],
   "source": [
    "# shortcut to enable field aliases\n",
    "# We will be creating a customized base model class. \n",
    "# And we'll be re-using that class, everywhere we want to implement \n",
    "# this camel casing and alias vs field names"
   ]
  },
  {
   "cell_type": "code",
   "execution_count": 53,
   "metadata": {},
   "outputs": [],
   "source": [
    "def snake_to_camel_case(value:str) -> str:\n",
    "    if not isinstance(value, str):\n",
    "        raise ValueError(\"Value must be a string\")\n",
    "    words = value.split('_')\n",
    "    value = \"\".join(word.title() for word in words if word)\n",
    "    return f\"{value[0].lower()}{value[1:]}\""
   ]
  },
  {
   "cell_type": "code",
   "execution_count": 54,
   "metadata": {},
   "outputs": [
    {
     "data": {
      "text/plain": [
       "'firstName'"
      ]
     },
     "execution_count": 54,
     "metadata": {},
     "output_type": "execute_result"
    }
   ],
   "source": [
    "snake_to_camel_case(\"first_name\")"
   ]
  },
  {
   "cell_type": "code",
   "execution_count": 55,
   "metadata": {},
   "outputs": [],
   "source": [
    "# Now we configure our CustomBaseModel to specify that our field aliases should automatically\n",
    "# be generated using the pre-defined function"
   ]
  },
  {
   "cell_type": "code",
   "execution_count": 56,
   "metadata": {},
   "outputs": [],
   "source": [
    "class CustomBaseModel(BaseModel):\n",
    "    class Config:\n",
    "        alias_generator = snake_to_camel_case\n",
    "        extra = \"forbid\"\n",
    "        populate_by_name = True"
   ]
  },
  {
   "cell_type": "code",
   "execution_count": 57,
   "metadata": {},
   "outputs": [],
   "source": [
    "class Person(CustomBaseModel):\n",
    "    first_name : str = None\n",
    "    last_name : str\n",
    "    dob : date = None"
   ]
  },
  {
   "cell_type": "code",
   "execution_count": 58,
   "metadata": {},
   "outputs": [
    {
     "data": {
      "text/plain": [
       "Person(first_name='Isaac', last_name='Newton', dob=None)"
      ]
     },
     "execution_count": 58,
     "metadata": {},
     "output_type": "execute_result"
    }
   ],
   "source": [
    "p = Person(first_name='Isaac', lastName='Newton')\n",
    "p"
   ]
  },
  {
   "cell_type": "code",
   "execution_count": 59,
   "metadata": {},
   "outputs": [
    {
     "name": "stdout",
     "output_type": "stream",
     "text": [
      "1 validation error for Person\n",
      "junk\n",
      "  Extra inputs are not permitted [type=extra_forbidden, input_value='extra fields', input_type=str]\n",
      "    For further information visit https://errors.pydantic.dev/2.5/v/extra_forbidden\n"
     ]
    }
   ],
   "source": [
    "try:\n",
    "    Person(**data_junk)\n",
    "except ValidationError as e:\n",
    "    print(e)"
   ]
  },
  {
   "cell_type": "code",
   "execution_count": 60,
   "metadata": {},
   "outputs": [],
   "source": [
    "from pydantic import conint # constraint integer\n",
    "\n",
    "class Test(CustomBaseModel):\n",
    "    age: conint(gt=0, le=150)"
   ]
  },
  {
   "cell_type": "code",
   "execution_count": 61,
   "metadata": {},
   "outputs": [
    {
     "data": {
      "text/plain": [
       "Test(age=10)"
      ]
     },
     "execution_count": 61,
     "metadata": {},
     "output_type": "execute_result"
    }
   ],
   "source": [
    "Test(age=10)"
   ]
  },
  {
   "cell_type": "code",
   "execution_count": 62,
   "metadata": {},
   "outputs": [
    {
     "name": "stdout",
     "output_type": "stream",
     "text": [
      "1 validation error for Test\n",
      "age\n",
      "  Input should be greater than 0 [type=greater_than, input_value=-1, input_type=int]\n",
      "    For further information visit https://errors.pydantic.dev/2.5/v/greater_than\n"
     ]
    }
   ],
   "source": [
    "try:\n",
    "    Test(age=-1)\n",
    "except ValidationError as e:\n",
    "    print(e)"
   ]
  },
  {
   "cell_type": "code",
   "execution_count": 63,
   "metadata": {},
   "outputs": [],
   "source": [
    "from pydantic import constr"
   ]
  },
  {
   "cell_type": "code",
   "execution_count": 64,
   "metadata": {},
   "outputs": [],
   "source": [
    "class Test(CustomBaseModel):\n",
    "    first_name: str = None\n",
    "    last_name: constr(strip_whitespace=True, strict=True, min_length=2)"
   ]
  },
  {
   "cell_type": "code",
   "execution_count": 65,
   "metadata": {},
   "outputs": [
    {
     "name": "stdout",
     "output_type": "stream",
     "text": [
      "first_name=None last_name='Newton'\n"
     ]
    }
   ],
   "source": [
    "try:\n",
    "    print(Test(last_name='    Newton'))\n",
    "except ValidationError as e:\n",
    "    print(e)"
   ]
  },
  {
   "cell_type": "code",
   "execution_count": 66,
   "metadata": {},
   "outputs": [
    {
     "name": "stdout",
     "output_type": "stream",
     "text": [
      "1 validation error for Test\n",
      "last_name\n",
      "  Input should be a valid string [type=string_type, input_value=10, input_type=int]\n",
      "    For further information visit https://errors.pydantic.dev/2.5/v/string_type\n"
     ]
    }
   ],
   "source": [
    "try:\n",
    "    print(Test(last_name=10))\n",
    "except ValidationError as e:\n",
    "    print(e)"
   ]
  },
  {
   "cell_type": "markdown",
   "metadata": {},
   "source": [
    "Custom Validators"
   ]
  },
  {
   "cell_type": "code",
   "execution_count": 67,
   "metadata": {},
   "outputs": [],
   "source": [
    "# Now if pydantics own validators are not sufficient, we can define our own custom validators\n",
    "from pydantic import field_validator\n",
    "class Test(CustomBaseModel):\n",
    "    hash_tag : str\n",
    "\n",
    "    @field_validator('hash_tag') # it is a class method, first argument is bound to the class\n",
    "    @classmethod\n",
    "    def validate_hash_tag(cls, value:str) -> str:\n",
    "        if not value.startswith(\"#\"):\n",
    "            raise ValueError(\"Hashtag must start with a #\")\n",
    "        return value.lower()"
   ]
  },
  {
   "cell_type": "code",
   "execution_count": 68,
   "metadata": {},
   "outputs": [
    {
     "data": {
      "text/plain": [
       "Test(hash_tag='#test')"
      ]
     },
     "execution_count": 68,
     "metadata": {},
     "output_type": "execute_result"
    }
   ],
   "source": [
    "t = Test(hash_tag='#TEST')\n",
    "t"
   ]
  },
  {
   "cell_type": "code",
   "execution_count": 69,
   "metadata": {},
   "outputs": [
    {
     "name": "stdout",
     "output_type": "stream",
     "text": [
      "1 validation error for Test\n",
      "hash_tag\n",
      "  Value error, Hashtag must start with a # [type=value_error, input_value='test', input_type=str]\n",
      "    For further information visit https://errors.pydantic.dev/2.5/v/value_error\n"
     ]
    }
   ],
   "source": [
    "try:\n",
    "    Test(hash_tag='test')\n",
    "except ValidationError as e:\n",
    "    print(e)"
   ]
  },
  {
   "cell_type": "markdown",
   "metadata": {},
   "source": [
    "Autocorrecting Fields values using Custom Validators"
   ]
  },
  {
   "cell_type": "code",
   "execution_count": 70,
   "metadata": {},
   "outputs": [],
   "source": [
    "class Test(CustomBaseModel):\n",
    "    hash_tag: constr(min_length=5, strip_whitespace=True)\n",
    "\n",
    "    # it is a class method, first argument is bound to the class\n",
    "    @field_validator('hash_tag')\n",
    "    @classmethod\n",
    "    def validate_hash_tag(cls, value: str) -> str:\n",
    "        if not value.startswith(\"#\"):\n",
    "            # raise ValueError(\"Hashtag must start with a #\")\n",
    "            return f\"#{value.lower()}\"\n",
    "        return value.lower()"
   ]
  },
  {
   "cell_type": "code",
   "execution_count": 71,
   "metadata": {},
   "outputs": [
    {
     "data": {
      "text/plain": [
       "Test(hash_tag='#test')"
      ]
     },
     "execution_count": 71,
     "metadata": {},
     "output_type": "execute_result"
    }
   ],
   "source": [
    "Test(hash_tag='#TEST')"
   ]
  },
  {
   "cell_type": "code",
   "execution_count": 72,
   "metadata": {},
   "outputs": [
    {
     "name": "stdout",
     "output_type": "stream",
     "text": [
      "hash_tag='#test2'\n"
     ]
    }
   ],
   "source": [
    "try:\n",
    "    print(Test(hash_tag='TEST2'))\n",
    "except ValidationError as e:\n",
    "    print(e)"
   ]
  },
  {
   "cell_type": "markdown",
   "metadata": {},
   "source": [
    "Multi-Field Custom Validators"
   ]
  },
  {
   "cell_type": "code",
   "execution_count": 73,
   "metadata": {},
   "outputs": [],
   "source": [
    "from enum import Enum\n",
    "from typing import List, Tuple, Union"
   ]
  },
  {
   "cell_type": "code",
   "execution_count": 74,
   "metadata": {},
   "outputs": [],
   "source": [
    "class PolygonType(Enum):\n",
    "    triangle = 3\n",
    "    tetragon = 4\n",
    "    pentagon = 5\n",
    "    hexagon = 6"
   ]
  },
  {
   "cell_type": "code",
   "execution_count": 75,
   "metadata": {},
   "outputs": [],
   "source": [
    "t = PolygonType.triangle"
   ]
  },
  {
   "cell_type": "code",
   "execution_count": 76,
   "metadata": {},
   "outputs": [
    {
     "data": {
      "text/plain": [
       "3"
      ]
     },
     "execution_count": 76,
     "metadata": {},
     "output_type": "execute_result"
    }
   ],
   "source": [
    "t.value"
   ]
  },
  {
   "cell_type": "code",
   "execution_count": 77,
   "metadata": {},
   "outputs": [
    {
     "data": {
      "text/plain": [
       "'triangle'"
      ]
     },
     "execution_count": 77,
     "metadata": {},
     "output_type": "execute_result"
    }
   ],
   "source": [
    "t.name"
   ]
  },
  {
   "cell_type": "code",
   "execution_count": 78,
   "metadata": {},
   "outputs": [],
   "source": [
    "class Polygon(CustomBaseModel):\n",
    "    polygon_type: PolygonType\n",
    "    edges: List[Tuple[int|float, int|float]]\n",
    "\n",
    "    # this validator is gonna run on vertices, whether validators on polygon_type have passed or not\n",
    "    @field_validator('edges')\n",
    "    @classmethod\n",
    "    def validate_edges(cls, value, values):\n",
    "        # value > value for vertices which is gonna be a list\n",
    "        # values > A dictionary that contains all the fields that were validated successfully listed above the current field. If it didn't pass the validation, it won't be present in values\n",
    "        # print(values)\n",
    "        polygon_type = values.data.get('polygon_type') # ValidationInfo object\n",
    "        if polygon_type:\n",
    "            num_vertices_required = polygon_type.value\n",
    "            if len(value) != num_vertices_required:\n",
    "                raise ValueError(\n",
    "                    f\"For a {polygon_type.name}, exactly {polygon_type.value}\"\n",
    "                    \"vertices are required.\"\n",
    "                )\n",
    "        return value\n",
    "    "
   ]
  },
  {
   "cell_type": "code",
   "execution_count": 79,
   "metadata": {},
   "outputs": [
    {
     "data": {
      "text/plain": [
       "Polygon(polygon_type=<PolygonType.triangle: 3>, edges=[(1, 2), (2, 3), (3, 1)])"
      ]
     },
     "execution_count": 79,
     "metadata": {},
     "output_type": "execute_result"
    }
   ],
   "source": [
    "Polygon(polygonType=PolygonType.triangle, edges=[(1,2),(2,3),(3,1)])"
   ]
  },
  {
   "cell_type": "code",
   "execution_count": 80,
   "metadata": {},
   "outputs": [
    {
     "name": "stdout",
     "output_type": "stream",
     "text": [
      "[\n",
      "    {\n",
      "        \"type\": \"int_type\",\n",
      "        \"loc\": [\n",
      "            \"edges\",\n",
      "            1,\n",
      "            1,\n",
      "            \"int\"\n",
      "        ],\n",
      "        \"msg\": \"Input should be a valid integer\",\n",
      "        \"input\": \"(3+1j)\",\n",
      "        \"url\": \"https://errors.pydantic.dev/2.5/v/int_type\"\n",
      "    },\n",
      "    {\n",
      "        \"type\": \"float_type\",\n",
      "        \"loc\": [\n",
      "            \"edges\",\n",
      "            1,\n",
      "            1,\n",
      "            \"float\"\n",
      "        ],\n",
      "        \"msg\": \"Input should be a valid number\",\n",
      "        \"input\": \"(3+1j)\",\n",
      "        \"url\": \"https://errors.pydantic.dev/2.5/v/float_type\"\n",
      "    }\n",
      "]\n"
     ]
    }
   ],
   "source": [
    "try:\n",
    "    Polygon(polygonType=PolygonType.triangle, edges=[(1, 2),(2,3+1j),(3,1)])\n",
    "except ValidationError as e:\n",
    "    print(e.json(indent=4))"
   ]
  },
  {
   "cell_type": "code",
   "execution_count": 81,
   "metadata": {},
   "outputs": [
    {
     "name": "stdout",
     "output_type": "stream",
     "text": [
      "1 validation error for Polygon\n",
      "edges\n",
      "  Value error, For a pentagon, exactly 5vertices are required. [type=value_error, input_value=[(1, 2), (2, 3), (3, 1)], input_type=list]\n",
      "    For further information visit https://errors.pydantic.dev/2.5/v/value_error\n"
     ]
    }
   ],
   "source": [
    "try:\n",
    "    Polygon(polygonType=PolygonType.pentagon,\n",
    "            edges=[(1, 2), (2, 3), (3, 1)])\n",
    "except ValidationError as e:\n",
    "    print(e)"
   ]
  },
  {
   "cell_type": "code",
   "execution_count": 82,
   "metadata": {},
   "outputs": [
    {
     "name": "stdout",
     "output_type": "stream",
     "text": [
      "1 validation error for Polygon\n",
      "polygonType\n",
      "  Input should be 3, 4, 5 or 6 [type=enum, input_value=10, input_type=int]\n"
     ]
    }
   ],
   "source": [
    "try:\n",
    "    Polygon(polygonType=10,\n",
    "            edges=[(1, 2), (2, 3), (3, 1)])\n",
    "except ValidationError as e:\n",
    "    print(e)"
   ]
  },
  {
   "cell_type": "markdown",
   "metadata": {},
   "source": [
    "Nested Models using Model Composition"
   ]
  },
  {
   "cell_type": "markdown",
   "metadata": {},
   "source": [
    "* post\n",
    "    * byline (one or more authors)\n",
    "        * author:\n",
    "            * first_name (required, min 2 chars, max 20 chars)\n",
    "            * last_name (required, min 1 char, max 20 chars)\n",
    "            * display_name (optional, default to first name, initial of last name, min 1 char, max 25 chars)\n",
    "    * title (required, at least 10 characters, no more than 50, force title case)\n",
    "    * sub title (optional, if present at least 20 characters, max 100)\n",
    "    * body (required, at least 100 characters, no upper limit)\n",
    "    * links (0 or more)\n",
    "        * link:\n",
    "            * name (required, min 5 characters, max 25 characters)\n",
    "            * url (required, valid url, that must include scheme (http/https))"
   ]
  },
  {
   "cell_type": "code",
   "execution_count": 83,
   "metadata": {},
   "outputs": [],
   "source": [
    "from typing_extensions import Annotated, Any\n",
    "from pydantic import StringConstraints"
   ]
  },
  {
   "cell_type": "code",
   "execution_count": 84,
   "metadata": {},
   "outputs": [],
   "source": [
    "# Author Class\n",
    "class Author(CustomBaseModel):\n",
    "    first_name: constr(min_length=2, max_length=20, strip_whitespace=True)\n",
    "    last_name: constr(min_length=1, max_length=20, strip_whitespace=True)\n",
    "    # display_name: constr(min_length=5, max_length=25) = Field(default=None,\n",
    "    #     validate_default=True)\n",
    "    display_name: Annotated[str, StringConstraints(min_length=4, max_length=25)] = Field(default=str(None), validate_default=True)\n",
    "\n",
    "    # always = True forces the validator to run, even if the display is None,\n",
    "    # this is how we can set dynamic default value\n",
    "\n",
    "    @field_validator(\"display_name\")\n",
    "    @classmethod\n",
    "    def validate_display_name(cls, value, values):\n",
    "        # validator runs, even if previous did not validate properly - so\n",
    "        # we need to run our code only if prior fields validated OK\n",
    "        # print(value)\n",
    "        if value == 'None':\n",
    "            if 'first_name' in values.data and 'last_name' in values.data:\n",
    "                first_name = values.data.get('first_name')\n",
    "                last_name = values.data.get('last_name')\n",
    "                return f\"{first_name} {(last_name[0]).upper()}\"\n",
    "        \n",
    "        return value"
   ]
  },
  {
   "cell_type": "code",
   "execution_count": 85,
   "metadata": {},
   "outputs": [
    {
     "name": "stdout",
     "output_type": "stream",
     "text": [
      "first_name='Gottfried' last_name='Leibniz' display_name='Gottfried L'\n"
     ]
    }
   ],
   "source": [
    "try:\n",
    "    print(Author(first_name='Gottfried', last_name='Leibniz'))\n",
    "except ValidationError as e:\n",
    "    print(e)"
   ]
  },
  {
   "cell_type": "code",
   "execution_count": 86,
   "metadata": {},
   "outputs": [
    {
     "name": "stdout",
     "output_type": "stream",
     "text": [
      "first_name='Gottfried' last_name='Leibniz' display_name='Johnny'\n"
     ]
    }
   ],
   "source": [
    "try:\n",
    "    print(Author(first_name='Gottfried', last_name='Leibniz', displayName='Johnny'))\n",
    "except ValidationError as e:\n",
    "    print(e)"
   ]
  },
  {
   "cell_type": "code",
   "execution_count": 87,
   "metadata": {},
   "outputs": [
    {
     "name": "stdout",
     "output_type": "stream",
     "text": [
      "1 validation error for Author\n",
      "last_name\n",
      "  String should have at most 20 characters [type=string_too_long, input_value='LeibnizLeibnizLeibnizLei...izLeibnizLeibnizLeibniz', input_type=str]\n",
      "    For further information visit https://errors.pydantic.dev/2.5/v/string_too_long\n"
     ]
    }
   ],
   "source": [
    "try:\n",
    "    print(Author(first_name='Gottfried', last_name='Leibniz'*10, displayName='Johnny'))\n",
    "except ValidationError as e:\n",
    "    print(e)"
   ]
  },
  {
   "cell_type": "code",
   "execution_count": 88,
   "metadata": {},
   "outputs": [],
   "source": [
    "from pydantic import AnyHttpUrl"
   ]
  },
  {
   "cell_type": "code",
   "execution_count": 89,
   "metadata": {},
   "outputs": [],
   "source": [
    "class Link(CustomBaseModel):\n",
    "    name: Annotated[str, StringConstraints(min_length=5, max_length=100)]\n",
    "    url: AnyHttpUrl"
   ]
  },
  {
   "cell_type": "code",
   "execution_count": 90,
   "metadata": {},
   "outputs": [
    {
     "name": "stdout",
     "output_type": "stream",
     "text": [
      "name='google' url=Url('https://www.google.com/')\n"
     ]
    }
   ],
   "source": [
    "try:\n",
    "    print(Link(name=\"google\",url=\"https://www.google.com\"))\n",
    "except ValidationError as e:\n",
    "    print(e)"
   ]
  },
  {
   "cell_type": "code",
   "execution_count": 91,
   "metadata": {},
   "outputs": [
    {
     "name": "stdout",
     "output_type": "stream",
     "text": [
      "1 validation error for Link\n",
      "url\n",
      "  Input should be a valid URL, relative URL without a base [type=url_parsing, input_value='www.google.com', input_type=str]\n",
      "    For further information visit https://errors.pydantic.dev/2.5/v/url_parsing\n"
     ]
    }
   ],
   "source": [
    "try:\n",
    "    print(Link(name=\"google\", url=\"www.google.com\"))\n",
    "except ValidationError as e:\n",
    "    print(e)"
   ]
  },
  {
   "cell_type": "code",
   "execution_count": 92,
   "metadata": {},
   "outputs": [],
   "source": [
    "from pydantic import conlist"
   ]
  },
  {
   "cell_type": "code",
   "execution_count": 93,
   "metadata": {},
   "outputs": [],
   "source": [
    "class Post(CustomBaseModel):\n",
    "    byline: conlist(item_type=Author, min_length=1)\n",
    "    title: Annotated[str, StringConstraints(min_length=10,max_length=50, strip_whitespace=True)]\n",
    "\n",
    "    @field_validator('title')\n",
    "    @classmethod\n",
    "    def validate_title(cls, value):\n",
    "        return value and value.title()"
   ]
  },
  {
   "cell_type": "code",
   "execution_count": 94,
   "metadata": {},
   "outputs": [
    {
     "data": {
      "text/plain": [
       "Post(byline=[Author(first_name='Isaac', last_name='Newton', display_name='Isaac N')], title='Mathmatica Principia')"
      ]
     },
     "execution_count": 94,
     "metadata": {},
     "output_type": "execute_result"
    }
   ],
   "source": [
    "Post(\n",
    "    byline=[\n",
    "        Author(first_name='Isaac', lastName='Newton')\n",
    "    ],\n",
    "    title = \"Mathmatica Principia\"\n",
    ")"
   ]
  },
  {
   "cell_type": "code",
   "execution_count": 95,
   "metadata": {},
   "outputs": [],
   "source": [
    "class Post(CustomBaseModel):\n",
    "    byline: conlist(item_type=Author, min_length=1)\n",
    "    title: Annotated[str, StringConstraints(\n",
    "        min_length=10, max_length=50, strip_whitespace=True)]\n",
    "    sub_title: Annotated[str, StringConstraints(\n",
    "        min_length=20, max_length=100, strip_whitespace=True\n",
    "    )] = 'None'\n",
    "    body: Annotated[str, StringConstraints(min_length=100)]\n",
    "\n",
    "    @field_validator('title')\n",
    "    @classmethod\n",
    "    def validate_title(cls, value):\n",
    "        return value and value.title()"
   ]
  },
  {
   "cell_type": "code",
   "execution_count": 96,
   "metadata": {},
   "outputs": [
    {
     "name": "stdout",
     "output_type": "stream",
     "text": [
      "{\n",
      "    \"byline\": [\n",
      "        {\n",
      "            \"first_name\": \"Isaac\",\n",
      "            \"last_name\": \"Newton\",\n",
      "            \"display_name\": \"Isaac N\"\n",
      "        }\n",
      "    ],\n",
      "    \"title\": \"Mathmatica Principia\",\n",
      "    \"sub_title\": \"Laws governing everyday physics\",\n",
      "    \"body\": \"*****************************************************************************************************\"\n",
      "}\n"
     ]
    }
   ],
   "source": [
    "print(\n",
    "    Post(\n",
    "        byline=[\n",
    "            Author(first_name='Isaac', lastName='Newton')\n",
    "        ],\n",
    "        title=\"Mathmatica Principia\",\n",
    "        sub_title=\"Laws governing everyday physics\",\n",
    "        body=\"*\" * 101\n",
    "    ).model_dump_json(indent=4)\n",
    ")"
   ]
  },
  {
   "cell_type": "code",
   "execution_count": 97,
   "metadata": {},
   "outputs": [],
   "source": [
    "class Post(CustomBaseModel):\n",
    "    byline: conlist(item_type=Author, min_length=1)\n",
    "\n",
    "    title: Annotated[str, StringConstraints(\n",
    "        min_length=10, max_length=50, strip_whitespace=True)]\n",
    "    \n",
    "    sub_title: Annotated[str, StringConstraints(\n",
    "        min_length=20, max_length=100, strip_whitespace=True\n",
    "    )] = 'None'\n",
    "\n",
    "    body: Annotated[str, StringConstraints(min_length=100)]\n",
    "    \n",
    "    links: conlist(item_type=Link, min_length=0)\n",
    "\n",
    "    @field_validator('title')\n",
    "    @classmethod\n",
    "    def validate_title(cls, value):\n",
    "        return value and value.title()"
   ]
  },
  {
   "cell_type": "code",
   "execution_count": 98,
   "metadata": {},
   "outputs": [
    {
     "name": "stdout",
     "output_type": "stream",
     "text": [
      "{\n",
      "    \"byline\": [\n",
      "        {\n",
      "            \"first_name\": \"Isaac\",\n",
      "            \"last_name\": \"Newton\",\n",
      "            \"display_name\": \"Isaac N\"\n",
      "        }\n",
      "    ],\n",
      "    \"title\": \"Mathmatica Principia\",\n",
      "    \"sub_title\": \"Laws governing everyday physics\",\n",
      "    \"body\": \"*****************************************************************************************************\",\n",
      "    \"links\": [\n",
      "        {\n",
      "            \"name\": \"Newton\\\\’s Philosophiae Naturalis Principia Mathematica\",\n",
      "            \"url\": \"https://plato.stanford.edu/entries/newton-principia/\"\n",
      "        }\n",
      "    ]\n",
      "}\n"
     ]
    }
   ],
   "source": [
    "print(\n",
    "    Post(\n",
    "        byline=[\n",
    "            Author(first_name='Isaac', lastName='Newton')\n",
    "        ],\n",
    "        title=\"Mathmatica Principia\",\n",
    "        sub_title=\"Laws governing everyday physics\",\n",
    "        body=\"*\" * 101,\n",
    "        links=[\n",
    "            Link(name=\"Newton\\’s Philosophiae Naturalis Principia Mathematica\",url=\"https://plato.stanford.edu/entries/newton-principia/\")\n",
    "        ]\n",
    "    ).model_dump_json(indent=4)\n",
    ")"
   ]
  },
  {
   "cell_type": "code",
   "execution_count": null,
   "metadata": {},
   "outputs": [],
   "source": []
  },
  {
   "cell_type": "code",
   "execution_count": 99,
   "metadata": {},
   "outputs": [
    {
     "name": "stdout",
     "output_type": "stream",
     "text": [
      "{\n",
      "    \"byline\": [\n",
      "        {\n",
      "            \"first_name\": \"Isaac\",\n",
      "            \"last_name\": \"Newton\",\n",
      "            \"display_name\": \"Isaac N\"\n",
      "        }\n",
      "    ],\n",
      "    \"title\": \"Mathmatica Principia\",\n",
      "    \"sub_title\": \"Laws governing everyday physics\",\n",
      "    \"body\": \"Lorem ipsum dolor sit amet, consectetur adipiscing elit. In ac pharetra ex, in rutrum neque. \\n        Mauris lacinia leo vitae purus ultricies venenatis. Etiam eu egestas enim, id mattis sapien. \\n        Fusce nec fermentum dolor. Nam dolor nulla, tristique quis semper in, placerat at ligula. Nam vel \\n        lectus quis turpis feugiat efficitur. Aenean suscipit dignissim ante, ac tempus lacus iaculis non. \\n        Morbi in condimentum turpis. Praesent erat lorem, tempus a bibendum a, pharetra eu ex. Integer posuere,\\n        purus placerat maximus molestie, nisi nisl molestie arcu, eget viverra quam enim nec augue. Ut ut eros \\n        velit. Donec felis orci, semper nec velit in, varius consectetur velit. Integer sodales a ante ut blandit.\\n        Vestibulum diam tellus, sollicitudin id volutpat vehicula, ultricies id erat.\",\n",
      "    \"links\": [\n",
      "        {\n",
      "            \"name\": \"Newton\\\\’s Philosophiae Naturalis Principia Mathematica\",\n",
      "            \"url\": \"https://plato.stanford.edu/entries/newton-principia/\"\n",
      "        }\n",
      "    ]\n",
      "}\n"
     ]
    }
   ],
   "source": [
    "post = Post(\n",
    "        byline=[\n",
    "            Author(first_name='Isaac', lastName='Newton')\n",
    "        ],\n",
    "        title=\"Mathmatica Principia\",\n",
    "        sub_title=\"Laws governing everyday physics\",\n",
    "        body='''Lorem ipsum dolor sit amet, consectetur adipiscing elit. In ac pharetra ex, in rutrum neque. \n",
    "        Mauris lacinia leo vitae purus ultricies venenatis. Etiam eu egestas enim, id mattis sapien. \n",
    "        Fusce nec fermentum dolor. Nam dolor nulla, tristique quis semper in, placerat at ligula. Nam vel \n",
    "        lectus quis turpis feugiat efficitur. Aenean suscipit dignissim ante, ac tempus lacus iaculis non. \n",
    "        Morbi in condimentum turpis. Praesent erat lorem, tempus a bibendum a, pharetra eu ex. Integer posuere,\n",
    "        purus placerat maximus molestie, nisi nisl molestie arcu, eget viverra quam enim nec augue. Ut ut eros \n",
    "        velit. Donec felis orci, semper nec velit in, varius consectetur velit. Integer sodales a ante ut blandit.\n",
    "        Vestibulum diam tellus, sollicitudin id volutpat vehicula, ultricies id erat.''',\n",
    "        links=[\n",
    "            Link(name=\"Newton\\’s Philosophiae Naturalis Principia Mathematica\",\n",
    "                 url=\"https://plato.stanford.edu/entries/newton-principia/\")\n",
    "        ]\n",
    "    )\n",
    "\n",
    "from pprint import pprint\n",
    "print(post.model_dump_json(indent=4))"
   ]
  },
  {
   "cell_type": "code",
   "execution_count": 100,
   "metadata": {},
   "outputs": [],
   "source": [
    "json_data = post.model_dump_json(indent=4) # deserializer"
   ]
  },
  {
   "cell_type": "code",
   "execution_count": 101,
   "metadata": {},
   "outputs": [
    {
     "name": "stdout",
     "output_type": "stream",
     "text": [
      "{\n",
      "    \"byline\": [\n",
      "        {\n",
      "            \"first_name\": \"Isaac\",\n",
      "            \"last_name\": \"Newton\",\n",
      "            \"display_name\": \"Isaac N\"\n",
      "        }\n",
      "    ],\n",
      "    \"title\": \"Mathmatica Principia\",\n",
      "    \"sub_title\": \"Laws governing everyday physics\",\n",
      "    \"body\": \"Lorem ipsum dolor sit amet, consectetur adipiscing elit. In ac pharetra ex, in rutrum neque. \\n        Mauris lacinia leo vitae purus ultricies venenatis. Etiam eu egestas enim, id mattis sapien. \\n        Fusce nec fermentum dolor. Nam dolor nulla, tristique quis semper in, placerat at ligula. Nam vel \\n        lectus quis turpis feugiat efficitur. Aenean suscipit dignissim ante, ac tempus lacus iaculis non. \\n        Morbi in condimentum turpis. Praesent erat lorem, tempus a bibendum a, pharetra eu ex. Integer posuere,\\n        purus placerat maximus molestie, nisi nisl molestie arcu, eget viverra quam enim nec augue. Ut ut eros \\n        velit. Donec felis orci, semper nec velit in, varius consectetur velit. Integer sodales a ante ut blandit.\\n        Vestibulum diam tellus, sollicitudin id volutpat vehicula, ultricies id erat.\",\n",
      "    \"links\": [\n",
      "        {\n",
      "            \"name\": \"Newton\\\\’s Philosophiae Naturalis Principia Mathematica\",\n",
      "            \"url\": \"https://plato.stanford.edu/entries/newton-principia/\"\n",
      "        }\n",
      "    ]\n",
      "}\n"
     ]
    }
   ],
   "source": [
    "print((Post.model_validate_json(json_data=json_data)).model_dump_json(indent=4)) # serialize"
   ]
  },
  {
   "cell_type": "code",
   "execution_count": 102,
   "metadata": {},
   "outputs": [
    {
     "name": "stdout",
     "output_type": "stream",
     "text": [
      "{\n",
      "  \"byline\": [\n",
      "    {\n",
      "      \"firstName\": \"Isaac\",\n",
      "      \"lastName\": \"Newton\",\n",
      "      \"displayName\": \"Isaac N\"\n",
      "    }\n",
      "  ],\n",
      "  \"title\": \"Mathmatica Principia\",\n",
      "  \"subTitle\": \"Laws governing everyday physics\",\n",
      "  \"body\": \"Lorem ipsum dolor sit amet, consectetur adipiscing elit. In ac pharetra ex, in rutrum neque. \\n        Mauris lacinia leo vitae purus ultricies venenatis. Etiam eu egestas enim, id mattis sapien. \\n        Fusce nec fermentum dolor. Nam dolor nulla, tristique quis semper in, placerat at ligula. Nam vel \\n        lectus quis turpis feugiat efficitur. Aenean suscipit dignissim ante, ac tempus lacus iaculis non. \\n        Morbi in condimentum turpis. Praesent erat lorem, tempus a bibendum a, pharetra eu ex. Integer posuere,\\n        purus placerat maximus molestie, nisi nisl molestie arcu, eget viverra quam enim nec augue. Ut ut eros \\n        velit. Donec felis orci, semper nec velit in, varius consectetur velit. Integer sodales a ante ut blandit.\\n        Vestibulum diam tellus, sollicitudin id volutpat vehicula, ultricies id erat.\",\n",
      "  \"links\": [\n",
      "    {\n",
      "      \"name\": \"Newton\\\\’s Philosophiae Naturalis Principia Mathematica\",\n",
      "      \"url\": \"https://plato.stanford.edu/entries/newton-principia/\"\n",
      "    }\n",
      "  ]\n",
      "}\n"
     ]
    }
   ],
   "source": [
    "print(post.model_dump_json(by_alias=True, indent=2))"
   ]
  },
  {
   "cell_type": "code",
   "execution_count": 103,
   "metadata": {},
   "outputs": [
    {
     "name": "stdout",
     "output_type": "stream",
     "text": [
      "{\n",
      "    \"$defs\": {\n",
      "        \"Author\": {\n",
      "            \"additionalProperties\": false,\n",
      "            \"properties\": {\n",
      "                \"firstName\": {\n",
      "                    \"maxLength\": 20,\n",
      "                    \"minLength\": 2,\n",
      "                    \"title\": \"Firstname\",\n",
      "                    \"type\": \"string\"\n",
      "                },\n",
      "                \"lastName\": {\n",
      "                    \"maxLength\": 20,\n",
      "                    \"minLength\": 1,\n",
      "                    \"title\": \"Lastname\",\n",
      "                    \"type\": \"string\"\n",
      "                },\n",
      "                \"displayName\": {\n",
      "                    \"default\": \"None\",\n",
      "                    \"maxLength\": 25,\n",
      "                    \"minLength\": 4,\n",
      "                    \"title\": \"Displayname\",\n",
      "                    \"type\": \"string\"\n",
      "                }\n",
      "            },\n",
      "            \"required\": [\n",
      "                \"firstName\",\n",
      "                \"lastName\"\n",
      "            ],\n",
      "            \"title\": \"Author\",\n",
      "            \"type\": \"object\"\n",
      "        },\n",
      "        \"Link\": {\n",
      "            \"additionalProperties\": false,\n",
      "            \"properties\": {\n",
      "                \"name\": {\n",
      "                    \"maxLength\": 100,\n",
      "                    \"minLength\": 5,\n",
      "                    \"title\": \"Name\",\n",
      "                    \"type\": \"string\"\n",
      "                },\n",
      "                \"url\": {\n",
      "                    \"format\": \"uri\",\n",
      "                    \"minLength\": 1,\n",
      "                    \"title\": \"Url\",\n",
      "                    \"type\": \"string\"\n",
      "                }\n",
      "            },\n",
      "            \"required\": [\n",
      "                \"name\",\n",
      "                \"url\"\n",
      "            ],\n",
      "            \"title\": \"Link\",\n",
      "            \"type\": \"object\"\n",
      "        }\n",
      "    },\n",
      "    \"additionalProperties\": false,\n",
      "    \"properties\": {\n",
      "        \"byline\": {\n",
      "            \"items\": {\n",
      "                \"$ref\": \"#/$defs/Author\"\n",
      "            },\n",
      "            \"minItems\": 1,\n",
      "            \"title\": \"Byline\",\n",
      "            \"type\": \"array\"\n",
      "        },\n",
      "        \"title\": {\n",
      "            \"maxLength\": 50,\n",
      "            \"minLength\": 10,\n",
      "            \"title\": \"Title\",\n",
      "            \"type\": \"string\"\n",
      "        },\n",
      "        \"subTitle\": {\n",
      "            \"default\": \"None\",\n",
      "            \"maxLength\": 100,\n",
      "            \"minLength\": 20,\n",
      "            \"title\": \"Subtitle\",\n",
      "            \"type\": \"string\"\n",
      "        },\n",
      "        \"body\": {\n",
      "            \"minLength\": 100,\n",
      "            \"title\": \"Body\",\n",
      "            \"type\": \"string\"\n",
      "        },\n",
      "        \"links\": {\n",
      "            \"items\": {\n",
      "                \"$ref\": \"#/$defs/Link\"\n",
      "            },\n",
      "            \"title\": \"Links\",\n",
      "            \"type\": \"array\"\n",
      "        }\n",
      "    },\n",
      "    \"required\": [\n",
      "        \"byline\",\n",
      "        \"title\",\n",
      "        \"body\",\n",
      "        \"links\"\n",
      "    ],\n",
      "    \"title\": \"Post\",\n",
      "    \"type\": \"object\"\n",
      "}\n"
     ]
    }
   ],
   "source": [
    "# You can ask pydantic to give you the JSON schema for the Post model\n",
    "import json\n",
    "print(json.dumps(Post.model_json_schema(), indent=4))"
   ]
  },
  {
   "cell_type": "markdown",
   "metadata": {},
   "source": [
    "### Handson"
   ]
  },
  {
   "cell_type": "markdown",
   "metadata": {},
   "source": [
    "* Book\n",
    "    * authors: a list of Author(s)\n",
    "        * Author:\n",
    "            * name\n",
    "    * title: string: Title of the book \n",
    "    * desc: string: Description of the book\n",
    "    * genre: strictly string value, List of genres a book can be classified into\n",
    "    * isbn: a string of length 7-10, alphanumeric\n",
    "    * pages: number of pages the book has\n",
    "    * rating: Book rating\n",
    "    * bookformat: "
   ]
  },
  {
   "cell_type": "code",
   "execution_count": 104,
   "metadata": {},
   "outputs": [],
   "source": [
    "from pydantic import StrictStr, StrictInt, StrictFloat"
   ]
  },
  {
   "cell_type": "code",
   "execution_count": 105,
   "metadata": {},
   "outputs": [],
   "source": [
    "from enum import Enum\n",
    "\n",
    "class BookFormat(Enum):\n",
    "    Paperback = 0\n",
    "    Hardcover = 1"
   ]
  },
  {
   "cell_type": "code",
   "execution_count": 106,
   "metadata": {},
   "outputs": [],
   "source": [
    "class Book(BaseModel):\n",
    "    title: Annotated[str, StringConstraints(\n",
    "        strip_whitespace=True, strict=True)]\n",
    "    \n",
    "    authors: conlist(item_type=str, min_length=1) = Field(alias='author')\n",
    "\n",
    "    description: Annotated[str, StringConstraints(\n",
    "        strip_whitespace=True, strict=True)] = Field(alias='desc')\n",
    "    \n",
    "    genres: conlist(item_type=str, min_length=1) = Field(alias='genre')\n",
    "\n",
    "    book_format: str = Field(default='NA', validate_default=True,alias='bookformat')\n",
    "\n",
    "    isbn: Annotated[str, StringConstraints(\n",
    "        strip_whitespace=True, strict=True)]\n",
    "    \n",
    "    pages: StrictInt\n",
    "\n",
    "    rating: StrictFloat\n",
    "\n",
    "    @field_validator('book_format')\n",
    "    @classmethod\n",
    "    def validate_book_format(cls, value):\n",
    "        if value == \"Hardcover\":\n",
    "            return BookFormat.Hardcover.name\n",
    "        elif value == \"Paperback\":\n",
    "            return BookFormat.Paperback.name\n",
    "        else:\n",
    "            return value\n",
    "        \n",
    "    @field_validator('pages')\n",
    "    @classmethod\n",
    "    def validate_pages(cls, value):\n",
    "        if value < 50:\n",
    "            raise ValueError(\"Number of pages must be more than 100 for a book\")\n",
    "        return value\n",
    "\n",
    "    class Config:\n",
    "        populate_by_name = True\n",
    "        extra = 'forbid'\n",
    "        \n"
   ]
  },
  {
   "cell_type": "code",
   "execution_count": 107,
   "metadata": {},
   "outputs": [
    {
     "name": "stdout",
     "output_type": "stream",
     "text": [
      "['basics.py', 'main.py', 'output.json', 'pydantic-tutorial.ipynb']\n"
     ]
    }
   ],
   "source": [
    "import os\n",
    "print(os.listdir())"
   ]
  },
  {
   "cell_type": "code",
   "execution_count": 108,
   "metadata": {},
   "outputs": [],
   "source": [
    "with open('output.json','r') as f:\n",
    "    json_data = json.load(f)\n",
    "    "
   ]
  },
  {
   "cell_type": "code",
   "execution_count": 109,
   "metadata": {},
   "outputs": [
    {
     "name": "stdout",
     "output_type": "stream",
     "text": [
      "{'title': 'Happiness: Lessons from a New Science', 'authors': ['Richard Layard'], 'description': \"There is a paradox at the heart of our lives. We all want more money, but as societies become richer, they do not become happier. This is not speculation: It's the story told by countless pieces of scientific research. We now have sophisticated ways of measuring how happy people are, and all the evidence shows that on average people have grown no happier in the last fifty years, even as average incomes have more than doubled.The central question the great economist Richard Layard asks in ,Happiness, is this: If we really wanted to be happier, what would we do differently? First we'd have to see clearly what conditions generate happiness and then bend all our efforts toward producing them. That is what this book is about-the causes of happiness and the means we have to effect it.,Until recently there was too little evidence to give a good answer to this essential question, but, Layard shows us, thanks to the integrated insights of psychology, sociology, applied economics, and other fields, we can now reach some firm conclusions, conclusions that will surprise you. ,Happiness, is an illuminating road map, grounded in hard research, to a better, happier life for us all.\", 'genres': ['Philosophy', 'Psychology', 'Writing', 'Economics', 'Journalism', 'Self Help', 'Politics', 'Personal Development', 'Science', 'Sociology', 'Nonfiction'], 'book_format': 'Paperback', 'isbn': '143037013', 'pages': 320, 'rating': 3.73}\n"
     ]
    }
   ],
   "source": [
    "try:\n",
    "    print(Book(**json_data[10]).model_dump())\n",
    "except ValidationError as e:\n",
    "    print(e)"
   ]
  },
  {
   "cell_type": "code",
   "execution_count": 110,
   "metadata": {},
   "outputs": [],
   "source": [
    "import random\n",
    "\n",
    "def get_book_index(length):\n",
    "    return random.choice(range(0,length))\n"
   ]
  },
  {
   "cell_type": "code",
   "execution_count": 111,
   "metadata": {},
   "outputs": [
    {
     "name": "stdout",
     "output_type": "stream",
     "text": [
      "{'title': 'Happiness: Lessons from a New Science', 'authors': ['Richard Layard'], 'description': \"There is a paradox at the heart of our lives. We all want more money, but as societies become richer, they do not become happier. This is not speculation: It's the story told by countless pieces of scientific research. We now have sophisticated ways of measuring how happy people are, and all the evidence shows that on average people have grown no happier in the last fifty years, even as average incomes have more than doubled.The central question the great economist Richard Layard asks in ,Happiness, is this: If we really wanted to be happier, what would we do differently? First we'd have to see clearly what conditions generate happiness and then bend all our efforts toward producing them. That is what this book is about-the causes of happiness and the means we have to effect it.,Until recently there was too little evidence to give a good answer to this essential question, but, Layard shows us, thanks to the integrated insights of psychology, sociology, applied economics, and other fields, we can now reach some firm conclusions, conclusions that will surprise you. ,Happiness, is an illuminating road map, grounded in hard research, to a better, happier life for us all.\", 'genres': ['Philosophy', 'Psychology', 'Writing', 'Economics', 'Journalism', 'Self Help', 'Politics', 'Personal Development', 'Science', 'Sociology', 'Nonfiction'], 'book_format': 'Paperback', 'isbn': '143037013', 'pages': 320, 'rating': 3.73}\n"
     ]
    }
   ],
   "source": [
    "try:\n",
    "    print(Book(**json_data[10]).model_dump())\n",
    "except ValidationError as e:\n",
    "    print(e)"
   ]
  },
  {
   "cell_type": "code",
   "execution_count": 112,
   "metadata": {},
   "outputs": [
    {
     "name": "stdout",
     "output_type": "stream",
     "text": [
      "{\n",
      "    \"title\": \"Web Design on a Shoestring\",\n",
      "    \"authors\": [\n",
      "        \"Carrie Bickner\"\n",
      "    ],\n",
      "    \"description\": \"Providing do-it-yourself, budget-conscious ideas for web site design and development, this text includes tips and techniques, examining before and after shots of existing web sites.\",\n",
      "    \"genres\": [\n",
      "        \"Web\",\n",
      "        \"Design\",\n",
      "        \"Internet\",\n",
      "        \"Website Design\"\n",
      "    ],\n",
      "    \"book_format\": \"Paperback\",\n",
      "    \"isbn\": \"735713286\",\n",
      "    \"pages\": 215,\n",
      "    \"rating\": 2.97\n",
      "}\n",
      "{\n",
      "    \"title\": \"Paul: His Letters and His Theology: An Introduction to Paul's Epistles\",\n",
      "    \"authors\": [\n",
      "        \"Stanley B. Marrow\"\n",
      "    ],\n",
      "    \"description\": \"A major Pauline theology, the first to have come out in the Catholic area in recent years, which sheds light on and interprets Paul's theology by his letters, his life, and both against the background of his times.\",\n",
      "    \"genres\": [\n",
      "        \"Religion\",\n",
      "        \"Christianity\",\n",
      "        \"Theology\"\n",
      "    ],\n",
      "    \"book_format\": \"Paperback\",\n",
      "    \"isbn\": \"080912744X\",\n",
      "    \"pages\": 278,\n",
      "    \"rating\": 4.0\n",
      "}\n",
      "{\n",
      "    \"title\": \"Trading Twelves: The Selected Letters of Ralph Ellison and Albert Murray\",\n",
      "    \"authors\": [\n",
      "        \"John F. Callahan\",\n",
      "        \"Albert Murray\",\n",
      "        \"Ralph Ellison\"\n",
      "    ],\n",
      "    \"description\": \"This absorbing collection of letters spans a decade in the lifelong friendship of two remarkable writers who engaged the subjects of literature, race, and identity with deep clarity and passion.,The correspondence begins in 1950 when Ellison is living in New York City, hard at work on his enduring masterpiece, ,Invisible Man,, and Murray is a professor at Tuskegee Institute in Alabama. Mirroring a jam session in which two jazz musicians \\\"trade twelves\\\"â€”each improvising twelve bars of music around the same musical idea-their lively dialog centers upon their respective writing, the jazz they both love so well, on travel, family, the work literary contemporaries (including Richard Wright, James Baldwin, William Faulkner and Ernest Hemingway) and the challenge of racial inclusiveness that they wish to pose to America through their craft. Infused with warmth, humor, and great erudition, ,Trading Twelves, ,offers a glimpse into literary history in the makingâ€”and into a powerful and enduring friendship.\",\n",
      "    \"genres\": [\n",
      "        \"Literature\",\n",
      "        \"Cultural\",\n",
      "        \"Jazz\",\n",
      "        \"Music\",\n",
      "        \"African American\",\n",
      "        \"Nonfiction\"\n",
      "    ],\n",
      "    \"book_format\": \"Paperback\",\n",
      "    \"isbn\": \"375708057\",\n",
      "    \"pages\": 272,\n",
      "    \"rating\": 4.03\n",
      "}\n",
      "{\n",
      "    \"title\": \"The Shining Path: A History of the Millenarian War in Peru\",\n",
      "    \"authors\": [\n",
      "        \"Gustavo Gorriti\"\n",
      "    ],\n",
      "    \"description\": \"First published in Peru in 1990, ,The Shining Path, was immediately hailed as one of the finest works on the insurgency that plagued that nation for over fifteen years. A richly detailed and absorbing account, it covers the dramatic years between the guerrillas' opening attack in 1980 and President Fernando Belaunde's reluctant decision to send in the military to contain the growing rebellion in late 1982. Covering the strategy, actions, successes, and setbacks of both the government and the rebels, the book shows how the tightly organized insurgency forced itself upon an unwilling society just after the transition from an authoritarian to a democratic regime.,One of Peru's most distinguished journalists, Gustavo Gorriti first covered the Shining Path movement for the leading Peruvian newsweekly, ,Caretas,. Drawing on hundreds of interviews and an impressive array of government and Shining Path documents, he weaves his careful research into a vivid portrait of the now-jailed Shining Path leader Abimael Guzman, Belaunde and his generals, and the unfolding drama of the fiercest war fought on Peruvian soil since the Chilean invasion a century before.\",\n",
      "    \"genres\": [\n",
      "        \"History\",\n",
      "        \"Politics\",\n",
      "        \"Nonfiction\"\n",
      "    ],\n",
      "    \"book_format\": \"Paperback\",\n",
      "    \"isbn\": \"807846767\",\n",
      "    \"pages\": 318,\n",
      "    \"rating\": 3.95\n",
      "}\n",
      "{\n",
      "    \"title\": \"Hawaii: An Uncommon History\",\n",
      "    \"authors\": [\n",
      "        \"Edward Joesting\"\n",
      "    ],\n",
      "    \"description\": \"\\\"Even if you know Hawaiian history you will find much here that is new, besides Knowledge, both love and understanding of th islands \\\" Jacob Adler\",\n",
      "    \"genres\": [\n",
      "        \"History\",\n",
      "        \"Nonfiction\"\n",
      "    ],\n",
      "    \"book_format\": \"Paperback\",\n",
      "    \"isbn\": \"393009076\",\n",
      "    \"pages\": 353,\n",
      "    \"rating\": 3.93\n",
      "}\n"
     ]
    }
   ],
   "source": [
    "for i in range(5):\n",
    "    try:\n",
    "        data = json_data[get_book_index(len(json_data))]\n",
    "        print(Book(**data).model_dump_json(indent=4))\n",
    "    except ValidationError as e:\n",
    "        print(e)"
   ]
  },
  {
   "cell_type": "code",
   "execution_count": null,
   "metadata": {},
   "outputs": [],
   "source": []
  },
  {
   "cell_type": "code",
   "execution_count": null,
   "metadata": {},
   "outputs": [],
   "source": []
  }
 ],
 "metadata": {
  "kernelspec": {
   "display_name": "f-api-env",
   "language": "python",
   "name": "python3"
  },
  "language_info": {
   "codemirror_mode": {
    "name": "ipython",
    "version": 3
   },
   "file_extension": ".py",
   "mimetype": "text/x-python",
   "name": "python",
   "nbconvert_exporter": "python",
   "pygments_lexer": "ipython3",
   "version": "3.12.0"
  }
 },
 "nbformat": 4,
 "nbformat_minor": 2
}
